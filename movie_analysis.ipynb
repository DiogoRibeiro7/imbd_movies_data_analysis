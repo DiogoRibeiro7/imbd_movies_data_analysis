{
 "cells": [
  {
   "cell_type": "code",
   "execution_count": 1,
   "id": "f0358a17",
   "metadata": {},
   "outputs": [],
   "source": [
    "import pandas as pd\n",
    "from currency_to_int import currency_to_number, replace_hyphen_in_columns, extract_minutes, extract_first_category\n",
    "from currency_to_int import convert_gross_to_numeric\n",
    "\n",
    "from matplotlib import pyplot as plt\n",
    "import seaborn as sns"
   ]
  },
  {
   "cell_type": "code",
   "execution_count": 2,
   "id": "490ff179",
   "metadata": {},
   "outputs": [],
   "source": [
    "box_office = pd.read_csv(\"box_office.csv\")\n",
    "movies = pd.read_csv(\"movies.csv\")"
   ]
  },
  {
   "cell_type": "code",
   "execution_count": 3,
   "id": "a6cb01f2",
   "metadata": {},
   "outputs": [],
   "source": [
    "movies = movies.fillna(0)"
   ]
  },
  {
   "cell_type": "code",
   "execution_count": 4,
   "id": "4d91e879",
   "metadata": {},
   "outputs": [],
   "source": [
    "movies[\"runtime\"] = movies[\"runtime\"].map(extract_minutes) "
   ]
  },
  {
   "cell_type": "code",
   "execution_count": 5,
   "id": "44acbb0f",
   "metadata": {},
   "outputs": [],
   "source": [
    "movies = movies.fillna(0)"
   ]
  },
  {
   "cell_type": "code",
   "execution_count": 6,
   "id": "87310db4",
   "metadata": {},
   "outputs": [
    {
     "ename": "AttributeError",
     "evalue": "'int' object has no attribute 'split'",
     "output_type": "error",
     "traceback": [
      "\u001b[0;31m---------------------------------------------------------------------------\u001b[0m",
      "\u001b[0;31mAttributeError\u001b[0m                            Traceback (most recent call last)",
      "Input \u001b[0;32mIn [6]\u001b[0m, in \u001b[0;36m<cell line: 1>\u001b[0;34m()\u001b[0m\n\u001b[0;32m----> 1\u001b[0m movies[\u001b[38;5;124m\"\u001b[39m\u001b[38;5;124mgenre\u001b[39m\u001b[38;5;124m\"\u001b[39m] \u001b[38;5;241m=\u001b[39m \u001b[43mmovies\u001b[49m\u001b[43m[\u001b[49m\u001b[38;5;124;43m\"\u001b[39;49m\u001b[38;5;124;43mgenre\u001b[39;49m\u001b[38;5;124;43m\"\u001b[39;49m\u001b[43m]\u001b[49m\u001b[38;5;241;43m.\u001b[39;49m\u001b[43mmap\u001b[49m\u001b[43m(\u001b[49m\u001b[43mextract_first_category\u001b[49m\u001b[43m)\u001b[49m\n",
      "File \u001b[0;32m~/opt/anaconda3/lib/python3.9/site-packages/pandas/core/series.py:4539\u001b[0m, in \u001b[0;36mSeries.map\u001b[0;34m(self, arg, na_action)\u001b[0m\n\u001b[1;32m   4460\u001b[0m \u001b[38;5;28;01mdef\u001b[39;00m \u001b[38;5;21mmap\u001b[39m(\n\u001b[1;32m   4461\u001b[0m     \u001b[38;5;28mself\u001b[39m,\n\u001b[1;32m   4462\u001b[0m     arg: Callable \u001b[38;5;241m|\u001b[39m Mapping \u001b[38;5;241m|\u001b[39m Series,\n\u001b[1;32m   4463\u001b[0m     na_action: Literal[\u001b[38;5;124m\"\u001b[39m\u001b[38;5;124mignore\u001b[39m\u001b[38;5;124m\"\u001b[39m] \u001b[38;5;241m|\u001b[39m \u001b[38;5;28;01mNone\u001b[39;00m \u001b[38;5;241m=\u001b[39m \u001b[38;5;28;01mNone\u001b[39;00m,\n\u001b[1;32m   4464\u001b[0m ) \u001b[38;5;241m-\u001b[39m\u001b[38;5;241m>\u001b[39m Series:\n\u001b[1;32m   4465\u001b[0m \u001b[38;5;250m    \u001b[39m\u001b[38;5;124;03m\"\"\"\u001b[39;00m\n\u001b[1;32m   4466\u001b[0m \u001b[38;5;124;03m    Map values of Series according to an input mapping or function.\u001b[39;00m\n\u001b[1;32m   4467\u001b[0m \n\u001b[0;32m   (...)\u001b[0m\n\u001b[1;32m   4537\u001b[0m \u001b[38;5;124;03m    dtype: object\u001b[39;00m\n\u001b[1;32m   4538\u001b[0m \u001b[38;5;124;03m    \"\"\"\u001b[39;00m\n\u001b[0;32m-> 4539\u001b[0m     new_values \u001b[38;5;241m=\u001b[39m \u001b[38;5;28;43mself\u001b[39;49m\u001b[38;5;241;43m.\u001b[39;49m\u001b[43m_map_values\u001b[49m\u001b[43m(\u001b[49m\u001b[43marg\u001b[49m\u001b[43m,\u001b[49m\u001b[43m \u001b[49m\u001b[43mna_action\u001b[49m\u001b[38;5;241;43m=\u001b[39;49m\u001b[43mna_action\u001b[49m\u001b[43m)\u001b[49m\n\u001b[1;32m   4540\u001b[0m     \u001b[38;5;28;01mreturn\u001b[39;00m \u001b[38;5;28mself\u001b[39m\u001b[38;5;241m.\u001b[39m_constructor(new_values, index\u001b[38;5;241m=\u001b[39m\u001b[38;5;28mself\u001b[39m\u001b[38;5;241m.\u001b[39mindex)\u001b[38;5;241m.\u001b[39m__finalize__(\n\u001b[1;32m   4541\u001b[0m         \u001b[38;5;28mself\u001b[39m, method\u001b[38;5;241m=\u001b[39m\u001b[38;5;124m\"\u001b[39m\u001b[38;5;124mmap\u001b[39m\u001b[38;5;124m\"\u001b[39m\n\u001b[1;32m   4542\u001b[0m     )\n",
      "File \u001b[0;32m~/opt/anaconda3/lib/python3.9/site-packages/pandas/core/base.py:890\u001b[0m, in \u001b[0;36mIndexOpsMixin._map_values\u001b[0;34m(self, mapper, na_action)\u001b[0m\n\u001b[1;32m    887\u001b[0m         \u001b[38;5;28;01mraise\u001b[39;00m \u001b[38;5;167;01mValueError\u001b[39;00m(msg)\n\u001b[1;32m    889\u001b[0m \u001b[38;5;66;03m# mapper is a function\u001b[39;00m\n\u001b[0;32m--> 890\u001b[0m new_values \u001b[38;5;241m=\u001b[39m \u001b[43mmap_f\u001b[49m\u001b[43m(\u001b[49m\u001b[43mvalues\u001b[49m\u001b[43m,\u001b[49m\u001b[43m \u001b[49m\u001b[43mmapper\u001b[49m\u001b[43m)\u001b[49m\n\u001b[1;32m    892\u001b[0m \u001b[38;5;28;01mreturn\u001b[39;00m new_values\n",
      "File \u001b[0;32m~/opt/anaconda3/lib/python3.9/site-packages/pandas/_libs/lib.pyx:2924\u001b[0m, in \u001b[0;36mpandas._libs.lib.map_infer\u001b[0;34m()\u001b[0m\n",
      "File \u001b[0;32m~/work_code/personal/imbd_movies_data_analysis/currency_to_int.py:75\u001b[0m, in \u001b[0;36mextract_first_category\u001b[0;34m(category_str)\u001b[0m\n\u001b[1;32m     65\u001b[0m \u001b[38;5;250m\u001b[39m\u001b[38;5;124;03m\"\"\"\u001b[39;00m\n\u001b[1;32m     66\u001b[0m \u001b[38;5;124;03mExtract the first category from a comma-separated string.\u001b[39;00m\n\u001b[1;32m     67\u001b[0m \n\u001b[0;32m   (...)\u001b[0m\n\u001b[1;32m     72\u001b[0m \u001b[38;5;124;03mstr: The first category, e.g., \"Action\".\u001b[39;00m\n\u001b[1;32m     73\u001b[0m \u001b[38;5;124;03m\"\"\"\u001b[39;00m\n\u001b[1;32m     74\u001b[0m \u001b[38;5;66;03m# Split the string by comma and take the first part\u001b[39;00m\n\u001b[0;32m---> 75\u001b[0m first_category \u001b[38;5;241m=\u001b[39m \u001b[43mcategory_str\u001b[49m\u001b[38;5;241;43m.\u001b[39;49m\u001b[43msplit\u001b[49m(\u001b[38;5;124m\"\u001b[39m\u001b[38;5;124m,\u001b[39m\u001b[38;5;124m\"\u001b[39m)[\u001b[38;5;241m0\u001b[39m]\u001b[38;5;241m.\u001b[39mstrip()\n\u001b[1;32m     77\u001b[0m \u001b[38;5;28;01mreturn\u001b[39;00m first_category\n",
      "\u001b[0;31mAttributeError\u001b[0m: 'int' object has no attribute 'split'"
     ]
    }
   ],
   "source": [
    "movies[\"genre\"] = movies[\"genre\"].map(extract_first_category)"
   ]
  },
  {
   "cell_type": "code",
   "execution_count": 7,
   "id": "070a88a4",
   "metadata": {},
   "outputs": [],
   "source": [
    "for row in movies.itertuples():\n",
    "    movies.loc[row[0],\"gross\"] = convert_gross_to_numeric(movies.loc[row[0],\"gross\"])"
   ]
  },
  {
   "cell_type": "code",
   "execution_count": null,
   "id": "5b0dc6a6",
   "metadata": {},
   "outputs": [],
   "source": [
    "movies"
   ]
  },
  {
   "cell_type": "code",
   "execution_count": null,
   "id": "bcc6af17",
   "metadata": {},
   "outputs": [],
   "source": [
    "movies = movies.fillna(0)"
   ]
  },
  {
   "cell_type": "code",
   "execution_count": null,
   "id": "920e0d61",
   "metadata": {},
   "outputs": [],
   "source": [
    "movies[\"gross\"] = movies[\"gross\"]/1000000"
   ]
  },
  {
   "cell_type": "code",
   "execution_count": null,
   "id": "5d34fb13",
   "metadata": {},
   "outputs": [],
   "source": [
    "movies[\"gross\"] = movies[\"gross\"].round(2)"
   ]
  },
  {
   "cell_type": "code",
   "execution_count": null,
   "id": "36289088",
   "metadata": {},
   "outputs": [],
   "source": [
    "movies = movies[(movies[\"critic_rating\"]!=0) & (movies[\"audience_rating\"]!=0)]"
   ]
  },
  {
   "cell_type": "code",
   "execution_count": null,
   "id": "885aa27d",
   "metadata": {},
   "outputs": [],
   "source": [
    "sns.jointplot(data=movies, x='critic_rating', y='audience_rating')"
   ]
  },
  {
   "cell_type": "code",
   "execution_count": null,
   "id": "46f9b8ca",
   "metadata": {},
   "outputs": [],
   "source": [
    "sns.jointplot(data=movies, x='critic_rating', y='audience_rating', kind=\"hex\")"
   ]
  },
  {
   "cell_type": "code",
   "execution_count": null,
   "id": "a8918c35",
   "metadata": {},
   "outputs": [],
   "source": [
    "sns.jointplot(data=movies, x='critic_rating', y='runtime')"
   ]
  },
  {
   "cell_type": "code",
   "execution_count": null,
   "id": "14e2e3bd",
   "metadata": {},
   "outputs": [],
   "source": [
    "sns.jointplot(data=movies, x='audience_rating', y='runtime')"
   ]
  },
  {
   "cell_type": "code",
   "execution_count": null,
   "id": "48e48751",
   "metadata": {},
   "outputs": [],
   "source": [
    "sns.jointplot(data=movies, x='critic_rating', y='gross')"
   ]
  },
  {
   "cell_type": "code",
   "execution_count": null,
   "id": "5a605a43",
   "metadata": {},
   "outputs": [],
   "source": [
    "sns.jointplot(data=movies, x='audience_rating', y='gross')"
   ]
  },
  {
   "cell_type": "code",
   "execution_count": null,
   "id": "e25e7be8",
   "metadata": {},
   "outputs": [],
   "source": [
    "sns.jointplot(data=movies, x='critic_rating', y='votes')"
   ]
  },
  {
   "cell_type": "code",
   "execution_count": null,
   "id": "85a14bb8",
   "metadata": {},
   "outputs": [],
   "source": [
    "sns.jointplot(data=movies, x='audience_rating', y='votes')"
   ]
  },
  {
   "cell_type": "code",
   "execution_count": null,
   "id": "0931639a",
   "metadata": {},
   "outputs": [],
   "source": []
  }
 ],
 "metadata": {
  "kernelspec": {
   "display_name": "Python 3 (ipykernel)",
   "language": "python",
   "name": "python3"
  },
  "language_info": {
   "codemirror_mode": {
    "name": "ipython",
    "version": 3
   },
   "file_extension": ".py",
   "mimetype": "text/x-python",
   "name": "python",
   "nbconvert_exporter": "python",
   "pygments_lexer": "ipython3",
   "version": "3.9.13"
  }
 },
 "nbformat": 4,
 "nbformat_minor": 5
}
